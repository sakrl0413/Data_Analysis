{
  "nbformat": 4,
  "nbformat_minor": 0,
  "metadata": {
    "colab": {
      "provenance": [],
      "include_colab_link": true
    },
    "kernelspec": {
      "name": "python3",
      "display_name": "Python 3"
    },
    "language_info": {
      "name": "python"
    }
  },
  "cells": [
    {
      "cell_type": "markdown",
      "metadata": {
        "id": "view-in-github",
        "colab_type": "text"
      },
      "source": [
        "<a href=\"https://colab.research.google.com/github/sakrl0413/Data_Analysis/blob/main/13_ChiSquareTests.ipynb\" target=\"_parent\"><img src=\"https://colab.research.google.com/assets/colab-badge.svg\" alt=\"Open In Colab\"/></a>"
      ]
    },
    {
      "cell_type": "markdown",
      "source": [
        "# 🐹🐾  **Chi-square tests**\n",
        "\n",
        "- Whether your sample data is likely to be from a specific theoretical distribution.\n",
        "- Test of Independence (독립성 검정) of **categorical variables**\n",
        "-\n",
        "\n",
        "## 🐹🐾🐾  **Contingency Table 분할표**\n",
        "    contingency. n. 우연성, 우발, 돌발 (ph. in the supposed contingency 만약 그런일이 일어날 경우에는)\n",
        "    contingent. a. 의존적인, **조건으로 하는 (on/upon)**, 우발적인\n",
        "\n",
        "- The table shows how the frequency of one variable is contingent on the frequency of another variable.\n",
        "\n",
        "- The chi-square test can analyze two-way contigency tables 분할표. (cf., Analyses with three-way or four-way contingency tables are also possible in principle, but log linear regression is used.)\n",
        "    - **Log-Linear Models**: These are often used for analyzing multi-way contingency tables. They help in understanding the interaction effects between the variables. [see the last code cell]\n",
        "    - Log-linear models and Generalized Linear Models (GLMs) are closely related and can indeed be compatible. In fact, a log-linear model can be considered a specific type of GLM where the response variable follows a Poisson distribution, and the log link function is used; therefore, in the last code cell, GLM is used instead.\n",
        "\n",
        ">\n",
        "## <font color = 'red'> **Now, back to two-way contingency tables.**</font>\n",
        ">\n",
        "\n",
        "|       |Category A |Category B|Category C|\n",
        "|:--:   |:--:|:--:|:--:|\n",
        "|Group 1|30|20|10|\n",
        "|Group 2|15|25|20|\n",
        "|Group 3|25|15|30|\n",
        "\n",
        ">\n",
        "\n",
        "||dependent variable1|dependent variable2|dependent variable3|row total|\n",
        "|:--:|:--:|:--:|:--:|:--:|\n",
        "|independent variable1|r1c1|r1c2|r1c3|<font color = 'blue'>**r1 total**|\n",
        "|independent variable2|r2c1|r2c2|r2c3|<font color = 'blue'>**r2 total**|\n",
        "|independent variable3|r3c1|r3c2|r3c3|<font color = 'blue'>**r3 total**|\n",
        "|column total|<font color = 'green'>**c1 total**|<font color = 'green'>**c2 total**|<font color = 'green'>**c3 total**| <font color = 'red'>**Total** |\n",
        "\n",
        "\n",
        "🅰️ In the following, we will deal with a contingency table with observed frequencies which show people's perferences for different SNS, either Instagram, Youtube, or Facebook\n",
        ">\n",
        "\n",
        "|            |Instagram|Youtube|Facebook||\n",
        "|:--:        |:--:|:--:|:--:|:--:|\n",
        "|In thier 20s|125|119|56|300|\n",
        "|In thier 30s|268|147|85|500|\n",
        "|In thier 40s|210|75|215|500|\n",
        "|            |603|341|356|1300|\n",
        "\n",
        "\n",
        "\n",
        "\n",
        "🅰️-1️⃣ How to calculate Expected Frequency?\n",
        "\n",
        "\n",
        "\n",
        "    df = (3-1) * (3-1)\n",
        "\n",
        "    - A higher Chi-square statistic indicates a greater discrepancy between observed and expected frequencies, leading to a lower p-value.\n",
        "    - A lower p-value suggests that it is less likely the observed association is due to random chance,\n",
        "    making it more likely that the variables are indeed associated."
      ],
      "metadata": {
        "id": "YzIUzD8xDM1n"
      }
    },
    {
      "cell_type": "markdown",
      "source": [
        "### 🐹🐾🐾🐾 **Formula** for estimating **Expected Frequency**\n",
        "###[1. Row totals; Column totals; Total numbers](https://github.com/ms624atyale/Data_Analysis/blob/main/RowTotals_ColumnTotals_TotalN.png)\n",
        "\n",
        "###[2.Calculating expected frequencies](https://github.com/ms624atyale/Data_Analysis/blob/main/Fomula_ExpectedFrequencies.png)"
      ],
      "metadata": {
        "id": "F7NYGZ_jUvVs"
      }
    },
    {
      "cell_type": "markdown",
      "source": [
        "**Explaining about the formula**\n",
        "\n",
        "    Expected Frequency = row n total * column n total / Total\n",
        "\n",
        "    where n is a number.\n",
        "\n",
        ">\n",
        "\n",
        "|ObsFreq     |Instagram|Youtube|Facebook||\n",
        "|:--:        |:--:|:--:|:--:|:--:|\n",
        "|In thier 20s|125|119|56|300|\n",
        "|In thier 30s|268|147|85|500|\n",
        "|In thier 40s|210|75|215|500|\n",
        "|            |603|341|356|1300|\n",
        ">\n",
        "\n",
        "|Formula     |Instagram|Youtube|Facebook||\n",
        "|:--:        |:--:|:--:|:--:|:--:|\n",
        "|In thier 20s|300*603/1300|300*341/1300|300*356/1300|300|\n",
        "|In thier 30s|500*603/1300|500*341/1300|500*356/1300|500|\n",
        "|In thier 40s|500*603/1300|500*341/1300|500*356/1300|500|\n",
        "|            |603|341|356|1300|\n",
        "\n",
        ">\n",
        "\n",
        "|Exp Freq    |Instagram|Youtube|Facebook||\n",
        "|:--:        |:--:|:--:|:--:|:--:|\n",
        "|In thier 20s|129|73|98|300|\n",
        "|In thier 30s|215|122|163|500|\n",
        "|In thier 40s|258|146|195|600|\n",
        "|            |603|341|456|1400|\n",
        "\n",
        ">\n",
        "\n",
        "🅰️-2️⃣ Formula of chi^2\n",
        "\n",
        "chi^2\t= (ObsFreqr1c1-ExpFreqc1cl)^2/ExpFreq1c1 + (ObsFreqr1c2-ExpFreqc1c2)^2/ExpFreqr1c2 + ... + (ObsFreqr3c3-ExpFreqc3c3)^2/ExpFreqr3c3\n",
        "\n",
        "    \n",
        "\n",
        "    ⤵️ Fomula of chi^2 applied:\n",
        "\n",
        "    chi^2 = 0.14 + 29 + 18 + 12.9 + 5.2 + 37 + 9.08 + 35 + 73 = 218.99\n",
        "\n",
        "🅰️-3️⃣ Degree of Freedom (df)  = (Total number of rows - 1) * (Total number of columns)\n",
        "\n"
      ],
      "metadata": {
        "id": "bwWUWJx3yLXI"
      }
    },
    {
      "cell_type": "markdown",
      "source": [
        "## **<font color = 'red'> 🌱 🐣 Chi-Square Tests using Python codes**"
      ],
      "metadata": {
        "id": "5l9eOc5TU7cr"
      }
    },
    {
      "cell_type": "code",
      "source": [
        "import pandas as pd\n",
        "import numpy as np\n",
        "from scipy.stats import chi2_contingency\n",
        "\n",
        "observed_freq = np.array([[125, 119, 56],[268, 147, 85], [210, 75, 315]])\n",
        "\n",
        "df = pd.DataFrame(observed_freq, index = ['In thier 20s', 'In their 30s', 'In thier 40s'], columns = ['Instagram', 'Youtube', 'Facebook'])\n",
        "\n",
        "print(df)\n",
        "print('\\n')\n",
        "\n",
        "# Perform chi-square test\n",
        "chi2_statistic, p_value, degrees_of_freedom, expected_freq = chi2_contingency(observed_freq)\n",
        "\n",
        "print ('Ho: Preference of SNS (e.g., Instagram, Youtube, Facebook) is similar among different age groups. ')\n",
        "\n",
        "print(\"\\n\", \"Chi-square statistic:\", chi2_statistic)\n",
        "\n",
        "print(\"\\n\", \"p-value:\", p_value)\n",
        "\n",
        "print(\"\\n\", \"Degrees of freedom:\", degrees_of_freedom)\n",
        "\n",
        "print(\"\\n\", \"Expected frequencies:\\n\", expected_freq)\n",
        "\n",
        "# Define the CTT (critical test threshold, aka., alpha)\n",
        "alpha = 0.05\n",
        "\n",
        "# Interpret the result\n",
        "if p_value > alpha:\n",
        "    print(\"\\n\", \"Preference of SNS (e.g., Instagram, Youtube, Facebook) is similar among different age groups. (fail to reject H0)\")\n",
        "else:\n",
        "    print(\"\\n\", \"Preference of SNS (e.g., Instagram, Youtube, Facebook) are different among different age groups. (reject H0)\")"
      ],
      "metadata": {
        "colab": {
          "base_uri": "https://localhost:8080/"
        },
        "id": "Uhm_P1kCLzzg",
        "outputId": "d0acdb35-04c3-4f2f-f553-795479d025f3"
      },
      "execution_count": 1,
      "outputs": [
        {
          "output_type": "stream",
          "name": "stdout",
          "text": [
            "              Instagram  Youtube  Facebook\n",
            "In thier 20s        125      119        56\n",
            "In their 30s        268      147        85\n",
            "In thier 40s        210       75       315\n",
            "\n",
            "\n",
            "Ho: Preference of SNS (e.g., Instagram, Youtube, Facebook) is similar among different age groups. \n",
            "\n",
            " Chi-square statistic: 218.98992136307027\n",
            "\n",
            " p-value: 3.0923258542677724e-46\n",
            "\n",
            " Degrees of freedom: 4\n",
            "\n",
            " Expected frequencies:\n",
            " [[129.21428571  73.07142857  97.71428571]\n",
            " [215.35714286 121.78571429 162.85714286]\n",
            " [258.42857143 146.14285714 195.42857143]]\n",
            "\n",
            " Preference of SNS (e.g., Instagram, Youtube, Facebook) are different among different age groups. (reject H0)\n"
          ]
        }
      ]
    },
    {
      "cell_type": "markdown",
      "source": [
        "### 1️⃣ **Testing speaking fluency with chi-square tests**"
      ],
      "metadata": {
        "id": "TVAeuszYQeaa"
      }
    },
    {
      "cell_type": "code",
      "execution_count": null,
      "metadata": {
        "colab": {
          "base_uri": "https://localhost:8080/"
        },
        "id": "UHM8zUTjLlkf",
        "outputId": "b54e710d-2f9b-41fd-fbd8-3e6f079e8cf9"
      },
      "outputs": [
        {
          "output_type": "stream",
          "name": "stdout",
          "text": [
            "                           Interuptions  Fillers\n",
            "Male/Female after Puberty            30       85\n",
            "Kids under 5                         95       68\n",
            "\n",
            "\n",
            "Ho: Speaking fluency are similar between adults and kids are independent of age.\n",
            "\n",
            " Chi-square statistic: 26.957080592820397\n",
            "\n",
            " p-value: 2.0802369135102012e-07\n",
            "\n",
            " Degrees of freedom: 1\n",
            "\n",
            " Expected frequencies:\n",
            " [[51.70863309 63.29136691]\n",
            " [73.29136691 89.70863309]]\n",
            "\n",
            " Different agae groups differ in speaking fluency. (reject H0)\n"
          ]
        }
      ],
      "source": [
        "import pandas as pd\n",
        "import numpy as np\n",
        "from scipy.stats import chi2_contingency\n",
        "\n",
        "# Define the contingency table\n",
        "observed_freq = np.array([[30, 85],\n",
        "                          [95, 68]])\n",
        "\n",
        "df = pd.DataFrame(observed_freq, index = ['Male/Female after Puberty', 'Kids under 5'], columns = ['Interuptions', 'Fillers'])\n",
        "\n",
        "print(df)\n",
        "print('\\n')\n",
        "\n",
        "# Perform chi-square test\n",
        "chi2_statistic, p_value, degrees_of_freedom, expected_freq = chi2_contingency(observed_freq)\n",
        "\n",
        "# Print the results\n",
        "\n",
        "print ('Ho: Speaking fluency are similar between adults and kids are independent of age.')\n",
        "\n",
        "print(\"\\n\", \"Chi-square statistic:\", chi2_statistic)\n",
        "\n",
        "print(\"\\n\", \"p-value:\", p_value)\n",
        "\n",
        "print(\"\\n\", \"Degrees of freedom:\", degrees_of_freedom)\n",
        "\n",
        "print(\"\\n\", \"Expected frequencies:\\n\", expected_freq)\n",
        "\n",
        "# Define the CTT (critical test threshold, aka., alpha)\n",
        "alpha = 0.05\n",
        "\n",
        "# Interpret the result\n",
        "if p_value > alpha:\n",
        "    print(\"\\n\", \"Different agae groups did not differ in speaking fluency. (fail to reject H0)\")\n",
        "else:\n",
        "    print(\"\\n\", \"Different agae groups differ in speaking fluency. (reject H0)\")"
      ]
    },
    {
      "cell_type": "markdown",
      "source": [
        "### 2️⃣ **Testing speakers' use of grammatical function words with chi-square tests**"
      ],
      "metadata": {
        "id": "tiQ0gQMmQrCW"
      }
    },
    {
      "cell_type": "code",
      "source": [
        "import pandas as pd\n",
        "import numpy as np\n",
        "from scipy.stats import chi2_contingency\n",
        "\n",
        "observed_freq = np.array([[125, 59, 80],[100, 12, 50]])\n",
        "\n",
        "df = pd.DataFrame(observed_freq, index = ['Native after puberty', 'Non-native after puberty'], columns = ['Pronouns', 'Relative Clause', 'Subordinate Clause'])\n",
        "\n",
        "print(df)\n",
        "print('\\n')\n",
        "\n",
        "# Perform chi-square test\n",
        "chi2_statistic, p_value, degrees_of_freedom, expected_freq = chi2_contingency(observed_freq)\n",
        "\n",
        "print ('Ho: Using grammatical function words are similar in terms of frequency between native and non-native after-puberty speakers of English')\n",
        "\n",
        "print(\"\\n\", \"Chi-square statistic:\", chi2_statistic)\n",
        "\n",
        "print(\"\\n\", \"p-value:\", p_value)\n",
        "\n",
        "print(\"\\n\", \"Degrees of freedom:\", degrees_of_freedom)\n",
        "\n",
        "print(\"\\n\", \"Expected frequencies:\\n\", expected_freq)\n",
        "\n",
        "# Define the CTT (critical test threshold, aka., alpha)\n",
        "alpha = 0.05\n",
        "\n",
        "# Interpret the result\n",
        "if p_value > alpha:\n",
        "    print(\"\\n\", \"Different agae groups did not differ in their use of grammatical function words. (fail to reject H0)\")\n",
        "else:\n",
        "    print(\"\\n\", \"Different agae groups differ in thier use of grammatical function words. (reject H0)\")"
      ],
      "metadata": {
        "colab": {
          "base_uri": "https://localhost:8080/"
        },
        "id": "sfqJEgy7PDmv",
        "outputId": "2db2dbdb-c1f6-477b-acf5-e7e306f6b1e4"
      },
      "execution_count": null,
      "outputs": [
        {
          "output_type": "stream",
          "name": "stdout",
          "text": [
            "                          Pronouns  Relative Clause  Subordinate Clause\n",
            "Native after puberty           125               59                  80\n",
            "Non-native after puberty       100               12                  50\n",
            "\n",
            "\n",
            "Ho: Using grammatical function words are similar in terms of frequency between native and non-native after-puberty speakers of English\n",
            "\n",
            " Chi-square statistic: 17.38783849894961\n",
            "\n",
            " p-value: 0.00016760186379635635\n",
            "\n",
            " Degrees of freedom: 2\n",
            "\n",
            " Expected frequencies:\n",
            " [[139.43661972  44.          80.56338028]\n",
            " [ 85.56338028  27.          49.43661972]]\n",
            "\n",
            " Different agae groups differ in thier use of grammatical function words. (reject H0)\n"
          ]
        }
      ]
    },
    {
      "cell_type": "markdown",
      "source": [
        "### 3️⃣ **The effectiveness of a new drug**"
      ],
      "metadata": {
        "id": "my8hvGdZONFg"
      }
    },
    {
      "cell_type": "code",
      "source": [
        "import pandas as pd\n",
        "import numpy as np\n",
        "from scipy.stats import chi2_contingency\n",
        "\n",
        "observed_freq = np.array([[100, 150],[120, 160]])\n",
        "\n",
        "df = pd.DataFrame(observed_freq, index = ['Cigarette', 'e-Cigarette'], columns = ['Lung Cancer', 'Bladder Cancer'])\n",
        "\n",
        "print(df)\n",
        "print('\\n')\n",
        "\n",
        "# Perform chi-square test\n",
        "chi2_statistic, p_value, degrees_of_freedom, expected_freq = chi2_contingency(observed_freq)\n",
        "\n",
        "print ('Ho: Cancers in the area of Lung and Bladder are similar between cigarette and e-cigarette users')\n",
        "\n",
        "print(\"\\n\", \"Chi-square statistic:\", chi2_statistic)\n",
        "\n",
        "print(\"\\n\", \"p-value:\", p_value)\n",
        "\n",
        "print(\"\\n\", \"Degrees of freedom:\", degrees_of_freedom)\n",
        "\n",
        "print(\"\\n\", \"Expected frequencies:\\n\", expected_freq)\n",
        "\n",
        "# Define the CTT (critical test threshold, aka., alpha)\n",
        "alpha = 0.05\n",
        "\n",
        "# Interpret the result\n",
        "if p_value > alpha:\n",
        "    print(\"\\n\", \"The incidence rates of lung cancer and bladder cancer are not different between cigarette users and e-cigarette users. (fail to reject H0)\")\n",
        "else:\n",
        "    print(\"\\n\", \"The incidence rates of lung cancer and bladder cancer differ between cigarette users and e-cigarette users. (reject H0)\")"
      ],
      "metadata": {
        "colab": {
          "base_uri": "https://localhost:8080/"
        },
        "id": "dtr4HeH-Olt8",
        "outputId": "826c6c7c-0b53-4b0a-bc7e-35e3bbbb0157"
      },
      "execution_count": null,
      "outputs": [
        {
          "output_type": "stream",
          "name": "stdout",
          "text": [
            "             Lung Cancer  Bladder Cancer\n",
            "Cigarette            100             150\n",
            "e-Cigarette          120             160\n",
            "\n",
            "\n",
            "Ho: Cancers in the area of Lung and Bladder are similar between cigarette and e-cigarette users\n",
            "\n",
            " Chi-square statistic: 0.3341892019271051\n",
            "\n",
            " p-value: 0.5632026843691589\n",
            "\n",
            " Degrees of freedom: 1\n",
            "\n",
            " Expected frequencies:\n",
            " [[103.77358491 146.22641509]\n",
            " [116.22641509 163.77358491]]\n",
            "\n",
            " The incidence rates of lung cancer and bladder cancer are not different between cigarette users and e-cigarette users. (fail to reject H0)\n"
          ]
        }
      ]
    },
    {
      "cell_type": "markdown",
      "source": [
        "### **For your information later! (This part is not part of Final)**\n",
        "\n",
        "Using GLM(general linear model) for a log linear model, three-way categorical data is analyzed in the following.\n"
      ],
      "metadata": {
        "id": "TGuD9SJ6MI5E"
      }
    },
    {
      "cell_type": "code",
      "source": [
        "import pandas as pd\n",
        "import numpy as np\n",
        "import statsmodels.api as sm\n",
        "import statsmodels.formula.api as smf\n",
        "\n",
        "# Create a sample dataset\n",
        "np.random.seed(0)\n",
        "gender = np.random.choice(['Male', 'Female'], size=90)\n",
        "smoking_status = np.random.choice(['Smoker', 'Non-Smoker'], size=90)\n",
        "exercise_level = np.random.choice(['Low', 'Medium', 'High'], size=90)\n",
        "\n",
        "# Combine into a DataFrame\n",
        "data = pd.DataFrame({\n",
        "    'Gender': gender,\n",
        "    'Smoking_Status': smoking_status,  # Rename column\n",
        "    'Exercise_Level': exercise_level   # Rename column\n",
        "})\n",
        "\n",
        "# Create a contingency table\n",
        "contingency_table = pd.crosstab(index=[data['Gender'], data['Smoking_Status']], columns=data['Exercise_Level'])\n",
        "\n",
        "# Melt the contingency table to a long format\n",
        "data_long = contingency_table.reset_index().melt(id_vars=['Gender', 'Smoking_Status'], var_name='Exercise_Level', value_name='Frequency')\n",
        "\n",
        "# Fit a Poisson regression model\n",
        "model = smf.glm(\"Frequency ~ Gender + Smoking_Status + Exercise_Level\", data=data_long, family=sm.families.Poisson()).fit()\n",
        "\n",
        "# Print the summary of the model\n",
        "print(model.summary())"
      ],
      "metadata": {
        "id": "q9wfMHB6FrND",
        "outputId": "64f9551e-9c70-4fc2-e321-b543fa03a195",
        "colab": {
          "base_uri": "https://localhost:8080/"
        }
      },
      "execution_count": null,
      "outputs": [
        {
          "output_type": "stream",
          "name": "stdout",
          "text": [
            "                 Generalized Linear Model Regression Results                  \n",
            "==============================================================================\n",
            "Dep. Variable:              Frequency   No. Observations:                   12\n",
            "Model:                            GLM   Df Residuals:                        7\n",
            "Model Family:                 Poisson   Df Model:                            4\n",
            "Link Function:                    Log   Scale:                          1.0000\n",
            "Method:                          IRLS   Log-Likelihood:                -25.951\n",
            "Date:                Wed, 05 Jun 2024   Deviance:                       6.0284\n",
            "Time:                        01:50:02   Pearson chi2:                     5.85\n",
            "No. Iterations:                     4   Pseudo R-squ. (CS):             0.2466\n",
            "Covariance Type:            nonrobust                                         \n",
            "============================================================================================\n",
            "                               coef    std err          z      P>|z|      [0.025      0.975]\n",
            "--------------------------------------------------------------------------------------------\n",
            "Intercept                    2.0122      0.239      8.417      0.000       1.544       2.481\n",
            "Gender[T.Male]              -0.2683      0.213     -1.261      0.207      -0.685       0.149\n",
            "Smoking_Status[T.Smoker]     0.0445      0.211      0.211      0.833      -0.369       0.458\n",
            "Exercise_Level[T.Low]        0.2877      0.255      1.130      0.258      -0.211       0.787\n",
            "Exercise_Level[T.Medium]  3.886e-16      0.272   1.43e-15      1.000      -0.533       0.533\n",
            "============================================================================================\n"
          ]
        }
      ]
    },
    {
      "cell_type": "markdown",
      "source": [
        "###**For your information**\n",
        "\n",
        "**Generalized Linear Models (GLM)** are used when you need to model a dependent variable that has a non-normal distribution. GLMs extend linear models to allow for response variables that have error distribution models other than a normal distribution. They are useful for various types of dependent variables including binary, count, and categorical data.\n",
        "\n",
        "Here are some scenarios when you might use GLM:\n",
        "\n",
        "1.Binary Data:\n",
        "\n",
        "  - When your dependent variable is binary (0/1, yes/no, success/failure), you would use a GLM with a binomial distribution. For example, logistic regression is a type of GLM used for binary outcomes.\n",
        "  - Example: Predicting whether a customer will buy a product or not.\n",
        "\n",
        "2.Count Data:\n",
        "\n",
        "   - When your dependent variable is a count (non-negative integers), such as the number of times an event occurs, you would use a GLM with a Poisson or negative binomial distribution.\n",
        "   - Example: Modeling the number of times a website is visited in a day.\n",
        "\n",
        "3.Proportional Data:\n",
        "\n",
        "   - When your dependent variable is a proportion (ranging between 0 and 1), such as the fraction of successes in a fixed number of trials, you would use a GLM with a binomial distribution.\n",
        "   - Example: Modeling the proportion of defective items in a batch.\n",
        "\n",
        "**4.Categorical Data with More Than Two Categories:**\n",
        "\n",
        "   - When your dependent variable is categorical with more than two categories, such as multinomial outcomes, you can use a multinomial logistic regression (a type of GLM).\n",
        "   Example: Predicting the type of car a customer will buy (sedan, SUV, truck).\n",
        "\n",
        "\n",
        "5.Continuous Data with Non-Normal Errors:\n",
        "\n",
        "- When your dependent variable is continuous but the residuals are not normally distributed, you might use a GLM with a suitable distribution (e.g., gamma distribution for positively skewed data).\n"
      ],
      "metadata": {
        "id": "C_7EuZV1GVJ6"
      }
    }
  ]
}