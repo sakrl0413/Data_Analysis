{
  "nbformat": 4,
  "nbformat_minor": 0,
  "metadata": {
    "colab": {
      "provenance": [],
      "include_colab_link": true
    },
    "kernelspec": {
      "name": "python3",
      "display_name": "Python 3"
    },
    "language_info": {
      "name": "python"
    }
  },
  "cells": [
    {
      "cell_type": "markdown",
      "metadata": {
        "id": "view-in-github",
        "colab_type": "text"
      },
      "source": [
        "<a href=\"https://colab.research.google.com/github/sakrl0413/Data_Analysis/blob/main/11_NormalityTest_SWtest_KStest.ipynb\" target=\"_parent\"><img src=\"https://colab.research.google.com/assets/colab-badge.svg\" alt=\"Open In Colab\"/></a>"
      ]
    },
    {
      "cell_type": "code",
      "source": [
        "!pip install --upgrade nbformat nbconvert"
      ],
      "metadata": {
        "id": "7P8V4mXNa6ur",
        "outputId": "8dc80922-4ea2-4142-dc6c-d6f6d8fba411",
        "colab": {
          "base_uri": "https://localhost:8080/"
        }
      },
      "execution_count": 1,
      "outputs": [
        {
          "output_type": "stream",
          "name": "stdout",
          "text": [
            "Requirement already satisfied: nbformat in /usr/local/lib/python3.10/dist-packages (5.10.4)\n",
            "Requirement already satisfied: nbconvert in /usr/local/lib/python3.10/dist-packages (6.5.4)\n",
            "Collecting nbconvert\n",
            "  Downloading nbconvert-7.16.4-py3-none-any.whl (257 kB)\n",
            "\u001b[2K     \u001b[90m━━━━━━━━━━━━━━━━━━━━━━━━━━━━━━━━━━━━━━━━\u001b[0m \u001b[32m257.4/257.4 kB\u001b[0m \u001b[31m2.8 MB/s\u001b[0m eta \u001b[36m0:00:00\u001b[0m\n",
            "\u001b[?25hRequirement already satisfied: fastjsonschema>=2.15 in /usr/local/lib/python3.10/dist-packages (from nbformat) (2.19.1)\n",
            "Requirement already satisfied: jsonschema>=2.6 in /usr/local/lib/python3.10/dist-packages (from nbformat) (4.19.2)\n",
            "Requirement already satisfied: jupyter-core!=5.0.*,>=4.12 in /usr/local/lib/python3.10/dist-packages (from nbformat) (5.7.2)\n",
            "Requirement already satisfied: traitlets>=5.1 in /usr/local/lib/python3.10/dist-packages (from nbformat) (5.7.1)\n",
            "Requirement already satisfied: beautifulsoup4 in /usr/local/lib/python3.10/dist-packages (from nbconvert) (4.12.3)\n",
            "Requirement already satisfied: bleach!=5.0.0 in /usr/local/lib/python3.10/dist-packages (from nbconvert) (6.1.0)\n",
            "Requirement already satisfied: defusedxml in /usr/local/lib/python3.10/dist-packages (from nbconvert) (0.7.1)\n",
            "Requirement already satisfied: jinja2>=3.0 in /usr/local/lib/python3.10/dist-packages (from nbconvert) (3.1.4)\n",
            "Requirement already satisfied: jupyterlab-pygments in /usr/local/lib/python3.10/dist-packages (from nbconvert) (0.3.0)\n",
            "Requirement already satisfied: markupsafe>=2.0 in /usr/local/lib/python3.10/dist-packages (from nbconvert) (2.1.5)\n",
            "Collecting mistune<4,>=2.0.3 (from nbconvert)\n",
            "  Downloading mistune-3.0.2-py3-none-any.whl (47 kB)\n",
            "\u001b[2K     \u001b[90m━━━━━━━━━━━━━━━━━━━━━━━━━━━━━━━━━━━━━━━━\u001b[0m \u001b[32m48.0/48.0 kB\u001b[0m \u001b[31m3.6 MB/s\u001b[0m eta \u001b[36m0:00:00\u001b[0m\n",
            "\u001b[?25hRequirement already satisfied: nbclient>=0.5.0 in /usr/local/lib/python3.10/dist-packages (from nbconvert) (0.10.0)\n",
            "Requirement already satisfied: packaging in /usr/local/lib/python3.10/dist-packages (from nbconvert) (24.0)\n",
            "Requirement already satisfied: pandocfilters>=1.4.1 in /usr/local/lib/python3.10/dist-packages (from nbconvert) (1.5.1)\n",
            "Requirement already satisfied: pygments>=2.4.1 in /usr/local/lib/python3.10/dist-packages (from nbconvert) (2.16.1)\n",
            "Requirement already satisfied: tinycss2 in /usr/local/lib/python3.10/dist-packages (from nbconvert) (1.3.0)\n",
            "Requirement already satisfied: six>=1.9.0 in /usr/local/lib/python3.10/dist-packages (from bleach!=5.0.0->nbconvert) (1.16.0)\n",
            "Requirement already satisfied: webencodings in /usr/local/lib/python3.10/dist-packages (from bleach!=5.0.0->nbconvert) (0.5.1)\n",
            "Requirement already satisfied: attrs>=22.2.0 in /usr/local/lib/python3.10/dist-packages (from jsonschema>=2.6->nbformat) (23.2.0)\n",
            "Requirement already satisfied: jsonschema-specifications>=2023.03.6 in /usr/local/lib/python3.10/dist-packages (from jsonschema>=2.6->nbformat) (2023.12.1)\n",
            "Requirement already satisfied: referencing>=0.28.4 in /usr/local/lib/python3.10/dist-packages (from jsonschema>=2.6->nbformat) (0.35.1)\n",
            "Requirement already satisfied: rpds-py>=0.7.1 in /usr/local/lib/python3.10/dist-packages (from jsonschema>=2.6->nbformat) (0.18.1)\n",
            "Requirement already satisfied: platformdirs>=2.5 in /usr/local/lib/python3.10/dist-packages (from jupyter-core!=5.0.*,>=4.12->nbformat) (4.2.1)\n",
            "Requirement already satisfied: jupyter-client>=6.1.12 in /usr/local/lib/python3.10/dist-packages (from nbclient>=0.5.0->nbconvert) (6.1.12)\n",
            "Requirement already satisfied: soupsieve>1.2 in /usr/local/lib/python3.10/dist-packages (from beautifulsoup4->nbconvert) (2.5)\n",
            "Requirement already satisfied: pyzmq>=13 in /usr/local/lib/python3.10/dist-packages (from jupyter-client>=6.1.12->nbclient>=0.5.0->nbconvert) (24.0.1)\n",
            "Requirement already satisfied: python-dateutil>=2.1 in /usr/local/lib/python3.10/dist-packages (from jupyter-client>=6.1.12->nbclient>=0.5.0->nbconvert) (2.8.2)\n",
            "Requirement already satisfied: tornado>=4.1 in /usr/local/lib/python3.10/dist-packages (from jupyter-client>=6.1.12->nbclient>=0.5.0->nbconvert) (6.3.3)\n",
            "Installing collected packages: mistune, nbconvert\n",
            "  Attempting uninstall: mistune\n",
            "    Found existing installation: mistune 0.8.4\n",
            "    Uninstalling mistune-0.8.4:\n",
            "      Successfully uninstalled mistune-0.8.4\n",
            "  Attempting uninstall: nbconvert\n",
            "    Found existing installation: nbconvert 6.5.4\n",
            "    Uninstalling nbconvert-6.5.4:\n",
            "      Successfully uninstalled nbconvert-6.5.4\n",
            "Successfully installed mistune-3.0.2 nbconvert-7.16.4\n"
          ]
        }
      ]
    },
    {
      "cell_type": "markdown",
      "source": [
        "## 💦🔥 **Normality test**\n",
        "\n",
        "1. **Small sample size (N<50)**, which is comparable to **Shapiro-Wilk** test on SPSS\n",
        "\n",
        "2. **Big sample size (N>50)**, which is comparable to **Kolmogorov-Smirnov** test on SPSS\n",
        "\n"
      ],
      "metadata": {
        "id": "NJ08d_uKSFuM"
      }
    },
    {
      "cell_type": "markdown",
      "source": [
        "# <font color = 'green'> **1️⃣  Small Sample Size (N < 50)**\n",
        "    **Be** aware that the following script generates different results for everyone running it!"
      ],
      "metadata": {
        "id": "ORCNnHH_10vs"
      }
    },
    {
      "cell_type": "markdown",
      "source": [
        "## CTT (Critical Test Threshold)\n",
        "\n",
        "- The p-value represents the probability of observing the test statistic (or more extreme) under the assumption that the null hypothesis is true. However, it doesn't provide information about the size of the effect or the practical significance of the result.\n",
        "\n",
        "- On the other hand, the critical test threshold (CTT) is the predetermined significance level (often denoted as alpha) at which you're willing to reject the null hypothesis. It is typically set to 0.05."
      ],
      "metadata": {
        "id": "NBV0cLff730W"
      }
    },
    {
      "cell_type": "markdown",
      "source": [
        "# <font color = 'green'> **1️⃣-1️⃣  Small Sample Size with Gaussian distribution (N < 50)**"
      ],
      "metadata": {
        "id": "l3WhCZYfbx8E"
      }
    },
    {
      "cell_type": "code",
      "execution_count": 3,
      "metadata": {
        "id": "3454tysCMAaw",
        "colab": {
          "base_uri": "https://localhost:8080/"
        },
        "outputId": "5a7f3f96-6ced-4ed4-ddb9-e87a6ff60f38"
      },
      "outputs": [
        {
          "output_type": "stream",
          "name": "stdout",
          "text": [
            "[ 1.38812548  2.66698063  1.70528821  1.86735449  0.87483207 -0.23163749\n",
            " -0.58589322  1.53928452  2.55838099  1.38266956  0.19056279  2.0574613\n",
            "  2.13782449  0.11684499  1.59175332  1.7194759   1.97842874  1.28576829\n",
            "  2.97619933  1.01913577 -0.06203948  1.83653296  1.70287155  0.15744815\n",
            "  0.33321467  3.39933214  0.60671834  2.24396018  1.23222666  0.65302397\n",
            "  2.69095292  0.82334684  2.06126922  3.18004326  0.84464     0.77390339\n",
            "  0.94910287  0.71416492  0.47494288  1.47038511  0.06193389  2.09642954\n",
            "  0.23733815  0.81047695  0.86472642  1.74859472  2.50777878  1.69616387\n",
            "  0.36147064  1.48651714]\n",
            "\n",
            "\n",
            "Full set of data points for Gaussian data:\n",
            "      Values\n",
            "0   1.388125\n",
            "1   2.666981\n",
            "2   1.705288\n",
            "3   1.867354\n",
            "4   0.874832\n",
            "5  -0.231637\n",
            "6  -0.585893\n",
            "7   1.539285\n",
            "8   2.558381\n",
            "9   1.382670\n",
            "10  0.190563\n",
            "11  2.057461\n",
            "12  2.137824\n",
            "13  0.116845\n",
            "14  1.591753\n",
            "15  1.719476\n",
            "16  1.978429\n",
            "17  1.285768\n",
            "18  2.976199\n",
            "19  1.019136\n",
            "20 -0.062039\n",
            "21  1.836533\n",
            "22  1.702872\n",
            "23  0.157448\n",
            "24  0.333215\n",
            "25  3.399332\n",
            "26  0.606718\n",
            "27  2.243960\n",
            "28  1.232227\n",
            "29  0.653024\n",
            "30  2.690953\n",
            "31  0.823347\n",
            "32  2.061269\n",
            "33  3.180043\n",
            "34  0.844640\n",
            "35  0.773903\n",
            "36  0.949103\n",
            "37  0.714165\n",
            "38  0.474943\n",
            "39  1.470385\n",
            "40  0.061934\n",
            "41  2.096430\n",
            "42  0.237338\n",
            "43  0.810477\n",
            "44  0.864726\n",
            "45  1.748595\n",
            "46  2.507779\n",
            "47  1.696164\n",
            "48  0.361471\n",
            "49  1.486517\n",
            "\n",
            "\n",
            "Shapiro-Wilk Test Statistic: 0.986020565032959\n",
            "p-value: 0.814448893070221\n",
            "Sample looks Gaussian (fail to reject H0)\n"
          ]
        }
      ],
      "source": [
        "import numpy as np # numeric calculation\n",
        "import pandas as pd # data analysis\n",
        "import seaborn as sns\n",
        "from scipy.stats import shapiro # stats\n",
        "\n",
        "# Generate a random dataset (replace this with your own data)\n",
        "# 🔔 The following code line generates random numbers from a normal (Gaussian) distribution using NumPy's random.normal function.\n",
        "# 🔔 loc=3, scale=1, size=50 (creating an array of 50 numbers drawn from a normal distribution with a mean (loc) of 3 and a standard deviation (scale) of 1.\n",
        "data_gaussian = np.random.normal(loc=1, scale=1, size=50)\n",
        "print(data_gaussian)\n",
        "print('\\n')\n",
        "\n",
        "# Convert the data to a pandas DataFrame\n",
        "df1 = pd.DataFrame(data_gaussian, columns=['Values'])\n",
        "print('Full set of data points for Gaussian data:')\n",
        "print(df1)\n",
        "print('\\n')\n",
        "\n",
        "# Save the DataFrame to a CSV file\n",
        "df1.to_csv('generated_data1.csv', index=True) # index=True for inncluding index\n",
        "\n",
        "# Perform Shapiro-Wilk test for normality\n",
        "# 🔔 Tuple unpacking: shapiro() function returns a tuple containing two values: the test statistic and the p-value.\n",
        "# By separating statistic and p_value with a comma, Python interprets the returned tuple and assigns each value to its corresponding variable.\n",
        "statistic, p_value = shapiro(data_gaussian)\n",
        "\n",
        "# Print the test statistic and p-value\n",
        "print(\"Shapiro-Wilk Test Statistic:\", statistic)\n",
        "print(\"p-value:\", p_value)\n",
        "\n",
        "# Define the CTT (critical test threshold, aka., alpha)\n",
        "alpha = 0.05\n",
        "\n",
        "# Interpret the result\n",
        "if p_value > alpha:\n",
        "    print(\"Sample looks Gaussian (fail to reject H0)\")\n",
        "else:\n",
        "    print(\"Sample does not look Gaussian (reject H0)\")\n",
        "\n"
      ]
    },
    {
      "cell_type": "markdown",
      "source": [
        "# ↘️ ↘️  \n",
        "\n",
        "## 🍪 🍩 **T-test for a pair-wise comparison for further analysis**"
      ],
      "metadata": {
        "id": "VW-fcMbXZKRS"
      }
    },
    {
      "cell_type": "markdown",
      "source": [
        "# <font color = 'green'> **1️⃣-2️⃣  Small Sample Size with non-Gaussian distribution (N < 50)**"
      ],
      "metadata": {
        "id": "UkFMUyaacPeM"
      }
    },
    {
      "cell_type": "code",
      "source": [
        "import numpy as np\n",
        "import pandas as pd\n",
        "from scipy.stats import shapiro\n",
        "\n",
        "\n",
        "# Generate data from an exponential distribution\n",
        "data_non_gaussian = np.random.exponential(scale=1, size=50) #generates 50 data points from an exponential distribution with a mean of 3.\n",
        "\n",
        "\n",
        "# Perform Shapiro-Wilk test for normality\n",
        "statistic, p_value = shapiro(data_non_gaussian)\n",
        "print(data_non_gaussian)\n",
        "print('\\n')\n",
        "\n",
        "\n",
        "# Convert the data to a pandas DataFrame\n",
        "df2 = pd.DataFrame(data_non_gaussian, columns=['Values'])\n",
        "# Display the full set of data points\n",
        "print(\"Full set of data points for Non-Gaussian data:\")\n",
        "print(df2)\n",
        "print('\\n')\n",
        "\n",
        "# Save the DataFrame to a CSV file\n",
        "df2.to_csv('non_gaussian_data.csv', index=True)\n",
        "\n",
        "# Perform Shapiro-Wilk test for normality\n",
        "statistic, p_value = shapiro(data_non_gaussian)\n",
        "\n",
        "# Print the test statistic and p-value\n",
        "print(\"Shapiro-Wilk Test Statistic:\", statistic)\n",
        "print(\"p-value:\", p_value)\n",
        "\n",
        "# Define the CTT (critical test threshold, aka., alpha)\n",
        "alpha = 0.05\n",
        "\n",
        "# Interpret the result\n",
        "if p_value > alpha:\n",
        "    print(\"Sample looks Gaussian (fail to reject H0)\")\n",
        "else:\n",
        "    print(\"Sample does not look Gaussian (reject H0)\")"
      ],
      "metadata": {
        "id": "z512G3m37zmx",
        "outputId": "0785ec2c-e9a5-4381-c7cb-acda2aebe696",
        "colab": {
          "base_uri": "https://localhost:8080/"
        }
      },
      "execution_count": 4,
      "outputs": [
        {
          "output_type": "stream",
          "name": "stdout",
          "text": [
            "[1.13549734 0.73896847 0.33770334 2.62823271 0.91985252 2.40274346\n",
            " 0.76737861 0.67091589 0.23908191 1.01188663 0.23279811 0.06637238\n",
            " 2.06448091 2.98470884 2.14961735 0.63621782 1.28830901 0.33025659\n",
            " 0.77999166 2.46961139 0.19846809 0.34099102 0.72483183 0.03137559\n",
            " 0.16782849 2.4586425  0.53757814 0.66081676 0.00496006 0.2045523\n",
            " 0.15844242 0.14238619 0.58120433 0.50544715 1.41481057 2.65998744\n",
            " 1.47568451 0.61795991 0.05107919 1.20800878 1.14846238 0.14770267\n",
            " 0.73131786 0.03810379 1.52651036 0.34960145 2.31132838 0.32847809\n",
            " 1.13281022 0.48102292]\n",
            "\n",
            "\n",
            "Full set of data points for Non-Gaussian data:\n",
            "      Values\n",
            "0   1.135497\n",
            "1   0.738968\n",
            "2   0.337703\n",
            "3   2.628233\n",
            "4   0.919853\n",
            "5   2.402743\n",
            "6   0.767379\n",
            "7   0.670916\n",
            "8   0.239082\n",
            "9   1.011887\n",
            "10  0.232798\n",
            "11  0.066372\n",
            "12  2.064481\n",
            "13  2.984709\n",
            "14  2.149617\n",
            "15  0.636218\n",
            "16  1.288309\n",
            "17  0.330257\n",
            "18  0.779992\n",
            "19  2.469611\n",
            "20  0.198468\n",
            "21  0.340991\n",
            "22  0.724832\n",
            "23  0.031376\n",
            "24  0.167828\n",
            "25  2.458642\n",
            "26  0.537578\n",
            "27  0.660817\n",
            "28  0.004960\n",
            "29  0.204552\n",
            "30  0.158442\n",
            "31  0.142386\n",
            "32  0.581204\n",
            "33  0.505447\n",
            "34  1.414811\n",
            "35  2.659987\n",
            "36  1.475685\n",
            "37  0.617960\n",
            "38  0.051079\n",
            "39  1.208009\n",
            "40  1.148462\n",
            "41  0.147703\n",
            "42  0.731318\n",
            "43  0.038104\n",
            "44  1.526510\n",
            "45  0.349601\n",
            "46  2.311328\n",
            "47  0.328478\n",
            "48  1.132810\n",
            "49  0.481023\n",
            "\n",
            "\n",
            "Shapiro-Wilk Test Statistic: 0.8643432259559631\n",
            "p-value: 3.8737991417292506e-05\n",
            "Sample does not look Gaussian (reject H0)\n"
          ]
        }
      ]
    },
    {
      "cell_type": "markdown",
      "source": [
        "**e-0X in standard decimal notation is to move the decimal point X places to the left:**\n",
        "\n",
        "- **e.g., 0.345e-08 ➡️ 0.0000000345**"
      ],
      "metadata": {
        "id": "sQ4W24gidVTZ"
      }
    },
    {
      "cell_type": "markdown",
      "source": [
        "# ↘️ ↘️  \n",
        "\n",
        "##🍓 🍉**Mann Witney U test (aka. Wilcoxon Rank Sum test) for a pair-wise comparison for further analysis**"
      ],
      "metadata": {
        "id": "i4bdCug0Znta"
      }
    },
    {
      "cell_type": "markdown",
      "source": [
        "# <font color = 'green'> **2️⃣ Big Sample Size (N > 50)**\n",
        "    Be aware that the following script generates different results for everyone running it!"
      ],
      "metadata": {
        "id": "K3wroDBt2Bhz"
      }
    },
    {
      "cell_type": "markdown",
      "source": [
        "# <font color = 'orange'> **2️⃣-1️⃣  Big Sample Size with Gaussian distribution (N > 50)**"
      ],
      "metadata": {
        "id": "vh2b-3sd0er1"
      }
    },
    {
      "cell_type": "code",
      "source": [
        "import numpy as np # numeric calculation\n",
        "import pandas as pd # data analysis\n",
        "import seaborn as sns\n",
        "from scipy.stats import kstest, norm # stats\n",
        "\n",
        "\n",
        "# Generate a random dataset (replace this with your own data)\n",
        "# loc=1, scale=0.5, size=100 (creating an array of 100 numbers drawn from a normal distribution with a mean (loc) of 1 and a standard deviation (scale) of 1.\n",
        "data_big_gaussian = np.random.normal(loc=1, scale=1, size=100)\n",
        "print(data_big_gaussian)\n",
        "print('\\n')\n",
        "\n",
        "# Convert the data to a pandas DataFrame\n",
        "df3 = pd.DataFrame(data_big_gaussian, columns=['Values'])\n",
        "print(df3)\n",
        "print('\\n')\n",
        "\n",
        "# Save the DataFrame to a CSV file\n",
        "df3.to_csv('GeneratedGaussianBigSampleData.csv', index=True)\n",
        "\n",
        "# 💊 Perform Kolmogorov-Smirnov test for normality ⤵️\n",
        "statistic, p_value = kstest(df3['Values'], 'norm', args=(df3['Values'].mean(), df3['Values'].std()))\n",
        "\n",
        "# Print the test statistic and p-value\n",
        "print(\"Kolmogorov-Smirnov Test Statistic:\", statistic)\n",
        "print(\"p-value:\", p_value)\n",
        "\n",
        "# Define the CTT (critical test threshold, aka., alpha)\n",
        "alpha = 0.05\n",
        "\n",
        "# Interpret the result\n",
        "if p_value > alpha:\n",
        "    print(\"Sample looks Gaussian (fail to reject H0)\")\n",
        "else:\n",
        "    print(\"Sample does not look Gaussian (reject H0)\")"
      ],
      "metadata": {
        "colab": {
          "base_uri": "https://localhost:8080/"
        },
        "id": "kB6j1egtTRx0",
        "outputId": "c2688a6f-ae39-4ec5-8232-003b4c56a388"
      },
      "execution_count": null,
      "outputs": [
        {
          "output_type": "stream",
          "name": "stdout",
          "text": [
            "[-3.89301985e-01  1.82629412e+00  9.76498311e-01  1.32074005e+00\n",
            "  5.46676295e-01  9.64457519e-01 -4.48322000e-01  1.20837031e+00\n",
            "  8.89432367e-01  1.28908207e-01 -3.17678222e-01  2.46679184e+00\n",
            "  9.07478638e-01 -3.30017504e-01  1.34097078e+00  1.64819906e-01\n",
            "  1.89496538e+00  3.01284762e-01  7.96582557e-01  2.97688099e+00\n",
            "  1.97433779e+00  1.02830206e+00  3.24351125e+00 -2.32626239e-02\n",
            "  1.09893620e-01  1.65150653e+00 -1.22708469e+00  7.91033093e-01\n",
            "  4.10659577e-01  7.08170359e-01  3.41421163e-01  8.89293244e-01\n",
            " -2.10699629e+00  7.02230144e-01  2.75044258e+00  4.95419674e-01\n",
            "  1.68063873e+00  2.77631763e+00  4.23507558e-01  9.11691243e-01\n",
            "  9.35966589e-02 -7.81413246e-01 -3.92079976e-01  2.01972911e+00\n",
            " -9.36397564e-02  6.25919308e-01  1.05435803e+00  8.98035379e-01\n",
            "  2.65930302e+00  3.20602851e+00  5.60227308e-01  7.77107690e-01\n",
            "  6.81000831e-01  1.89230128e+00  1.22604857e+00  1.07492956e+00\n",
            "  1.29763836e-01  1.96561164e+00  2.77347853e+00  1.44870017e+00\n",
            " -9.53471435e-01  3.14728254e-01  1.98315302e+00  1.12182353e+00\n",
            "  1.74706462e+00  1.76397917e+00 -8.97560655e-02  6.89405361e-01\n",
            "  2.83971607e+00  1.15590515e+00  1.17091528e+00 -3.98407679e-02\n",
            "  1.10994564e+00  1.21771962e-01 -1.62255919e-01  2.26702031e+00\n",
            "  3.21070657e-01  1.07750976e+00  1.27121969e+00  1.09480943e-01\n",
            "  1.35712466e+00 -9.76891277e-01  1.58612024e+00  1.42849377e+00\n",
            "  7.44338739e-01 -2.77927209e-01 -3.77176954e-01  1.34633009e+00\n",
            "  1.30796221e+00 -5.98265474e-01 -4.51590228e-01  2.04902572e+00\n",
            "  2.06786836e+00  2.58194736e+00 -1.55416938e-03  1.32007305e+00\n",
            " -9.00385470e-01  1.73586122e+00  1.98021765e+00 -4.89106621e-01]\n",
            "\n",
            "\n",
            "      Values\n",
            "0  -0.389302\n",
            "1   1.826294\n",
            "2   0.976498\n",
            "3   1.320740\n",
            "4   0.546676\n",
            "..       ...\n",
            "95  1.320073\n",
            "96 -0.900385\n",
            "97  1.735861\n",
            "98  1.980218\n",
            "99 -0.489107\n",
            "\n",
            "[100 rows x 1 columns]\n",
            "\n",
            "\n",
            "Kolmogorov-Smirnov Test Statistic: 0.044021909075028676\n",
            "p-value: 0.9856175383924907\n",
            "Sample looks Gaussian (fail to reject H0)\n"
          ]
        }
      ]
    },
    {
      "cell_type": "markdown",
      "source": [
        "💊 **statistic, p_value = kstest(df3['Values'], 'norm', args=(df3['Values'].mean(), df3['Values'].std()))**\n",
        "\n",
        "<font color = 'red'> **Arguments:**\n",
        "\n",
        "- <font color = 'red'> **df3['Values']**</font>: This is the data we want to test for normality. It is passed as the first argument to kstest().\n",
        "- <font color = 'red'> **'norm'**</font>: This specifies that we want to test the data against a normal distribution.\n",
        "- <font color = 'red'> **args=(df3['Values'].mean(), df3['Values'].std())**</font>: This argument allows us to pass additional parameters to the distribution function being tested against.\n",
        "    - Here, we're passing the mean (df3['Values'].mean()) and standard deviation (df3['Values'].std()) of the data as parameters to the normal distribution. This ensures that the K-S test is performed with the mean and standard deviation of our data as parameters for the normal distribution.\n",
        "\n",
        "**Output:**\n",
        "\n",
        "<font color = 'green'> The **kstest()** function returns two values: the _K-S test statistic (statistic)_ and the _p-value (p_value)_. These values are assigned to the variables statistic and p_value, respectively."
      ],
      "metadata": {
        "id": "iCZ-VFcBwkPR"
      }
    },
    {
      "cell_type": "markdown",
      "source": [
        "# <font color = 'orange'> **2️⃣-2️⃣ Big Sample Size with Non-Gaussian distribution (N > 50)**"
      ],
      "metadata": {
        "id": "aXb0N6620qEc"
      }
    },
    {
      "cell_type": "code",
      "source": [
        "import numpy as np # numeric calculation\n",
        "import pandas as pd # data analysis\n",
        "import seaborn as sns\n",
        "from scipy.stats import kstest, norm # stats\n",
        "\n",
        "\n",
        "# Generate data from an exponential distribution\n",
        "data_big_non_gaussian = np.random.exponential(scale=1, size=100) #generates 100 data points from an exponential distribution with a mean of 1.\n",
        "print(data_big_non_gaussian)\n",
        "print('\\n')\n",
        "\n",
        "# Convert the data to a pandas DataFrame\n",
        "df4 = pd.DataFrame(data_big_non_gaussian, columns=['Values'])\n",
        "print(df4)\n",
        "print('\\n')\n",
        "\n",
        "# Save the DataFrame to a CSV file\n",
        "df4.to_csv('GeneratedNonGaussianBigSampleData.csv', index=True)\n",
        "\n",
        "# 💊 Perform Kolmogorov-Smirnov test for normality ⤵️\n",
        "statistic, p_value = kstest(df4['Values'], 'norm', args=(df4['Values'].mean(), df3['Values'].std()))\n",
        "\n",
        "# Print the test statistic and p-value\n",
        "print(\"Kolmogorov-Smirnov Test Statistic:\", statistic)\n",
        "print(\"p-value:\", p_value)\n",
        "\n",
        "# Define the CTT (critical test threshold, aka., alpha)\n",
        "alpha = 0.05\n",
        "\n",
        "# Interpret the result\n",
        "if p_value > alpha:\n",
        "    print(\"Sample looks Gaussian (fail to reject H0)\")\n",
        "else:\n",
        "    print(\"Sample does not look Gaussian (reject H0)\")\n"
      ],
      "metadata": {
        "id": "5l_cALqUyqoX",
        "outputId": "8dec1c11-bec9-4cee-8a2f-c56c015745f3",
        "colab": {
          "base_uri": "https://localhost:8080/",
          "height": 854
        }
      },
      "execution_count": 5,
      "outputs": [
        {
          "output_type": "stream",
          "name": "stdout",
          "text": [
            "[0.05771324 1.9447031  0.13832913 4.00850769 0.42016531 3.31360009\n",
            " 3.82091619 0.25654561 5.12035171 2.607847   1.12604692 0.46251902\n",
            " 1.96563677 0.02967318 0.32646414 0.63819301 2.24784838 0.18637383\n",
            " 0.4064403  0.08342828 0.01097885 0.25520741 0.62547245 0.50028593\n",
            " 1.40110569 0.15107133 2.85255559 0.80014563 0.38630969 0.22542413\n",
            " 0.21698026 0.39192066 3.81641186 0.43686049 1.29335187 0.78044484\n",
            " 1.14943792 1.10390285 0.56876512 1.03855184 0.62757001 1.04774877\n",
            " 0.17947666 1.81678606 0.82894524 0.13519391 0.41617439 2.16585987\n",
            " 0.94372316 0.9123273  0.3165487  0.78766311 0.0201499  0.43579121\n",
            " 0.83628978 1.10389782 0.43698153 1.62885792 1.2843315  1.42554509\n",
            " 1.19028804 1.07265044 1.80327356 0.09399241 0.57933736 0.20154178\n",
            " 0.08871859 0.7907408  0.26136893 0.19277493 1.21611234 0.25628133\n",
            " 0.40721776 0.10954833 0.2520031  0.91696209 0.45168835 0.79982577\n",
            " 0.52464191 1.59124257 1.58410748 0.11841853 0.6134328  0.33337636\n",
            " 0.39278327 0.11573668 1.88268717 1.20573352 0.86393965 1.58240297\n",
            " 0.79203911 0.50909965 1.44799427 1.95214662 0.03113221 3.22587824\n",
            " 0.46529926 1.69764108 0.32009351 0.18404017]\n",
            "\n",
            "\n",
            "      Values\n",
            "0   0.057713\n",
            "1   1.944703\n",
            "2   0.138329\n",
            "3   4.008508\n",
            "4   0.420165\n",
            "..       ...\n",
            "95  3.225878\n",
            "96  0.465299\n",
            "97  1.697641\n",
            "98  0.320094\n",
            "99  0.184040\n",
            "\n",
            "[100 rows x 1 columns]\n",
            "\n",
            "\n"
          ]
        },
        {
          "output_type": "error",
          "ename": "NameError",
          "evalue": "name 'df3' is not defined",
          "traceback": [
            "\u001b[0;31m---------------------------------------------------------------------------\u001b[0m",
            "\u001b[0;31mNameError\u001b[0m                                 Traceback (most recent call last)",
            "\u001b[0;32m<ipython-input-5-15ae523ed878>\u001b[0m in \u001b[0;36m<cell line: 21>\u001b[0;34m()\u001b[0m\n\u001b[1;32m     19\u001b[0m \u001b[0;34m\u001b[0m\u001b[0m\n\u001b[1;32m     20\u001b[0m \u001b[0;31m# 💊 Perform Kolmogorov-Smirnov test for normality ⤵️\u001b[0m\u001b[0;34m\u001b[0m\u001b[0;34m\u001b[0m\u001b[0m\n\u001b[0;32m---> 21\u001b[0;31m \u001b[0mstatistic\u001b[0m\u001b[0;34m,\u001b[0m \u001b[0mp_value\u001b[0m \u001b[0;34m=\u001b[0m \u001b[0mkstest\u001b[0m\u001b[0;34m(\u001b[0m\u001b[0mdf4\u001b[0m\u001b[0;34m[\u001b[0m\u001b[0;34m'Values'\u001b[0m\u001b[0;34m]\u001b[0m\u001b[0;34m,\u001b[0m \u001b[0;34m'norm'\u001b[0m\u001b[0;34m,\u001b[0m \u001b[0margs\u001b[0m\u001b[0;34m=\u001b[0m\u001b[0;34m(\u001b[0m\u001b[0mdf4\u001b[0m\u001b[0;34m[\u001b[0m\u001b[0;34m'Values'\u001b[0m\u001b[0;34m]\u001b[0m\u001b[0;34m.\u001b[0m\u001b[0mmean\u001b[0m\u001b[0;34m(\u001b[0m\u001b[0;34m)\u001b[0m\u001b[0;34m,\u001b[0m \u001b[0mdf3\u001b[0m\u001b[0;34m[\u001b[0m\u001b[0;34m'Values'\u001b[0m\u001b[0;34m]\u001b[0m\u001b[0;34m.\u001b[0m\u001b[0mstd\u001b[0m\u001b[0;34m(\u001b[0m\u001b[0;34m)\u001b[0m\u001b[0;34m)\u001b[0m\u001b[0;34m)\u001b[0m\u001b[0;34m\u001b[0m\u001b[0;34m\u001b[0m\u001b[0m\n\u001b[0m\u001b[1;32m     22\u001b[0m \u001b[0;34m\u001b[0m\u001b[0m\n\u001b[1;32m     23\u001b[0m \u001b[0;31m# Print the test statistic and p-value\u001b[0m\u001b[0;34m\u001b[0m\u001b[0;34m\u001b[0m\u001b[0m\n",
            "\u001b[0;31mNameError\u001b[0m: name 'df3' is not defined"
          ]
        }
      ]
    },
    {
      "cell_type": "markdown",
      "source": [
        "## 💿 💿 3️⃣-1️⃣ When you use your csv. file (e.g., downloading from url or on your machine...)\n",
        "    Be aware that the following script generates the same result for everyone running it!"
      ],
      "metadata": {
        "id": "reXYftIwIjC0"
      }
    },
    {
      "cell_type": "code",
      "source": [
        "import urllib.request\n",
        "\n",
        "#🍎 URL of the CSV file\n",
        "url = 'https://raw.githubusercontent.com/ms624atyale/Data_NLP2024/main/GeneratedGaussianBigSampleData.csv'\n",
        "response = urllib.request.urlopen(url)\n",
        "content = response.read().decode('utf-8')\n",
        "print(content)\n",
        "\n",
        "# Read the CSV data from the URL into a pandas DataFrame\n",
        "df = pd.read_csv(url)\n",
        "\n",
        "# Specify the column name\n",
        "df_final = pd.DataFrame(df, columns=['Values'])\n",
        "print(df_final)\n",
        "print('\\n')\n",
        "\n",
        "# Save the DataFrame to a CSV file with index numbers\n",
        "df_final.to_csv('GeneratedGaussianBigSampleData.csv', index=True)\n",
        "\n",
        "\n",
        "#🍎 URL of the CSV file\n",
        "url2 = 'https://raw.githubusercontent.com/ms624atyale/Data_NLP2024/main/GeneratedNonGaussianBigSampleData.csv'\n",
        "response2 = urllib.request.urlopen(url2)\n",
        "content2 = response2.read().decode('utf-8')\n",
        "print(content2)\n",
        "\n",
        "# Read the CSV data from the URL into a pandas DataFrame\n",
        "df2 = pd.read_csv(url2)\n",
        "\n",
        "# Specify the column name\n",
        "df2_final = pd.DataFrame(df2, columns=['Values'])\n",
        "print(df2_final)\n",
        "print('\\n')\n",
        "\n",
        "# Save the DataFrame to a CSV file with index numbers\n",
        "df2_final.to_csv('GeneratedNonGaussianBigSampleData.csv', index=True)"
      ],
      "metadata": {
        "id": "wPHxUzL21lQr",
        "outputId": "7e1da79e-d020-4752-b7a8-c776d43c2e0b",
        "colab": {
          "base_uri": "https://localhost:8080/"
        },
        "collapsed": true
      },
      "execution_count": 6,
      "outputs": [
        {
          "output_type": "stream",
          "name": "stdout",
          "text": [
            ",Values\n",
            "0,-0.3893019853247639\n",
            "1,1.826294124221361\n",
            "2,0.9764983106706722\n",
            "3,1.3207400509639244\n",
            "4,0.5466762954832244\n",
            "5,0.9644575186326361\n",
            "6,-0.4483219999240613\n",
            "7,1.2083703133773933\n",
            "8,0.8894323669115846\n",
            "9,0.12890820679317283\n",
            "10,-0.31767822174222604\n",
            "11,2.466791842791489\n",
            "12,0.9074786383682953\n",
            "13,-0.33001750421992715\n",
            "14,1.3409707813695975\n",
            "15,0.16481990599443264\n",
            "16,1.89496537948119\n",
            "17,0.30128476174907104\n",
            "18,0.7965825566157225\n",
            "19,2.976880987395285\n",
            "20,1.97433778701594\n",
            "21,1.0283020634732585\n",
            "22,3.2435112532667567\n",
            "23,-0.02326262393623768\n",
            "24,0.10989361989798607\n",
            "25,1.6515065297471363\n",
            "26,-1.2270846879300308\n",
            "27,0.7910330927681215\n",
            "28,0.4106595770571808\n",
            "29,0.7081703591397273\n",
            "30,0.34142116291210567\n",
            "31,0.8892932440724862\n",
            "32,-2.106996287691787\n",
            "33,0.7022301439146518\n",
            "34,2.7504425806440054\n",
            "35,0.49541967367931317\n",
            "36,1.6806387302727406\n",
            "37,2.7763176277505908\n",
            "38,0.4235075577002062\n",
            "39,0.911691243239547\n",
            "40,0.09359665891737723\n",
            "41,-0.7814132460038632\n",
            "42,-0.3920799757656994\n",
            "43,2.019729113770459\n",
            "44,-0.09363975639257194\n",
            "45,0.6259193075478388\n",
            "46,1.0543580290786605\n",
            "47,0.8980353789249669\n",
            "48,2.6593030222452683\n",
            "49,3.2060285076561432\n",
            "50,0.5602273077543851\n",
            "51,0.777107690181003\n",
            "52,0.6810008313417728\n",
            "53,1.8923012834270105\n",
            "54,1.2260485692565022\n",
            "55,1.0749295550653142\n",
            "56,0.1297638363637975\n",
            "57,1.965611644981486\n",
            "58,2.773478532558477\n",
            "59,1.4487001703228195\n",
            "60,-0.9534714349849955\n",
            "61,0.31472825379247926\n",
            "62,1.9831530171519725\n",
            "63,1.1218235341321765\n",
            "64,1.7470646233141303\n",
            "65,1.7639791710440318\n",
            "66,-0.08975606545530557\n",
            "67,0.6894053612464286\n",
            "68,2.83971606718943\n",
            "69,1.1559051517116279\n",
            "70,1.1709152775857692\n",
            "71,-0.039840767941963895\n",
            "72,1.1099456418598872\n",
            "73,0.12177196230361176\n",
            "74,-0.16225591897082126\n",
            "75,2.2670203114303913\n",
            "76,0.3210706574324478\n",
            "77,1.0775097608731712\n",
            "78,1.2712196931794448\n",
            "79,0.10948094263647201\n",
            "80,1.3571246563953898\n",
            "81,-0.9768912768640365\n",
            "82,1.5861202393784035\n",
            "83,1.4284937665421398\n",
            "84,0.7443387391335902\n",
            "85,-0.27792720934706017\n",
            "86,-0.3771769543554895\n",
            "87,1.3463300899351065\n",
            "88,1.3079622138262077\n",
            "89,-0.5982654740145164\n",
            "90,-0.4515902284947362\n",
            "91,2.0490257233571967\n",
            "92,2.0678683562595537\n",
            "93,2.5819473553142593\n",
            "94,-0.001554169380313164\n",
            "95,1.3200730469653013\n",
            "96,-0.9003854698142157\n",
            "97,1.7358612239374531\n",
            "98,1.9802176477128541\n",
            "99,-0.48910662140812633\n",
            "\n",
            "      Values\n",
            "0  -0.389302\n",
            "1   1.826294\n",
            "2   0.976498\n",
            "3   1.320740\n",
            "4   0.546676\n",
            "..       ...\n",
            "95  1.320073\n",
            "96 -0.900385\n",
            "97  1.735861\n",
            "98  1.980218\n",
            "99 -0.489107\n",
            "\n",
            "[100 rows x 1 columns]\n",
            "\n",
            "\n",
            ",Values\n",
            "0,0.8046249101789011\n",
            "1,0.7682633952778323\n",
            "2,2.29079474852387\n",
            "3,2.43049129356199\n",
            "4,0.22989047327431966\n",
            "5,1.2695775219688306\n",
            "6,1.5502049192934948\n",
            "7,0.6787202219323324\n",
            "8,0.22117171942820463\n",
            "9,2.9517509864784737\n",
            "10,0.12052944227476772\n",
            "11,1.064955819442374\n",
            "12,0.30848186348640205\n",
            "13,0.06518881425631175\n",
            "14,0.18957383843154857\n",
            "15,1.9881311940832913\n",
            "16,0.027475817727749964\n",
            "17,0.668198401809793\n",
            "18,1.643372192477434\n",
            "19,0.6661320348586599\n",
            "20,0.4858621499396462\n",
            "21,1.497146846535357\n",
            "22,0.3397411725832874\n",
            "23,1.3136729958663007\n",
            "24,0.015315767203609141\n",
            "25,1.050296600560083\n",
            "26,0.07351300447309597\n",
            "27,0.18903031133842235\n",
            "28,1.8528409942704889\n",
            "29,0.8045627817552868\n",
            "30,1.1385038247356605\n",
            "31,0.7504151240901326\n",
            "32,2.843288301004686\n",
            "33,0.43152688554688545\n",
            "34,2.1104081028531496\n",
            "35,1.296439563374763\n",
            "36,0.20905245998725341\n",
            "37,0.14050027016518182\n",
            "38,0.09064639394496869\n",
            "39,3.2505938541435437\n",
            "40,1.0146369290543638\n",
            "41,0.37740653545723485\n",
            "42,0.6658700571994811\n",
            "43,0.17384330553636212\n",
            "44,0.08471930073362877\n",
            "45,0.6996237390820352\n",
            "46,0.5031787303407206\n",
            "47,0.056950899968815596\n",
            "48,0.746172369893011\n",
            "49,2.270674455937503\n",
            "50,1.5220228395388342\n",
            "51,0.7409241785656789\n",
            "52,1.392641044033556\n",
            "53,0.6133897428364232\n",
            "54,1.8222528841159946\n",
            "55,0.7028728207234378\n",
            "56,0.583173043687956\n",
            "57,0.741183279437999\n",
            "58,0.874039957266335\n",
            "59,0.6086829433739334\n",
            "60,2.2561442457145766\n",
            "61,0.3486121366360994\n",
            "62,0.16278232521963543\n",
            "63,1.5622889131749889\n",
            "64,1.6813498213224776\n",
            "65,0.43074391889200886\n",
            "66,1.2299039598189296\n",
            "67,0.918776495245721\n",
            "68,1.9135035998546084\n",
            "69,0.3038096382794121\n",
            "70,0.6077458951181605\n",
            "71,0.16669640845069214\n",
            "72,0.04360223185182008\n",
            "73,0.9152974382586234\n",
            "74,0.8849766575036361\n",
            "75,0.41009681507559825\n",
            "76,0.0726671925679987\n",
            "77,0.6161972422991362\n",
            "78,0.36970606739497053\n",
            "79,0.6045644094909686\n",
            "80,0.18877393449612728\n",
            "81,1.8921145295290784\n",
            "82,0.9676021807850521\n",
            "83,0.17156003991507154\n",
            "84,0.055925456769043834\n",
            "85,1.402531334660634\n",
            "86,0.7657016904045993\n",
            "87,0.6059239447500606\n",
            "88,1.186902878676455\n",
            "89,0.7019008280669858\n",
            "90,0.6331591785822229\n",
            "91,0.4775404350251007\n",
            "92,2.48455469337317\n",
            "93,1.9651302735080403\n",
            "94,1.540384674007286\n",
            "95,2.597039146069859\n",
            "96,1.0474283384986214\n",
            "97,0.6350619890107608\n",
            "98,2.0106801389565137\n",
            "99,0.7457131414776356\n",
            "\n",
            "      Values\n",
            "0   0.804625\n",
            "1   0.768263\n",
            "2   2.290795\n",
            "3   2.430491\n",
            "4   0.229890\n",
            "..       ...\n",
            "95  2.597039\n",
            "96  1.047428\n",
            "97  0.635062\n",
            "98  2.010680\n",
            "99  0.745713\n",
            "\n",
            "[100 rows x 1 columns]\n",
            "\n",
            "\n"
          ]
        }
      ]
    },
    {
      "cell_type": "code",
      "source": [],
      "metadata": {
        "id": "xCRU-l6ycS9x"
      },
      "execution_count": null,
      "outputs": []
    },
    {
      "cell_type": "markdown",
      "source": [
        "#📊 **Gaussian Distribution Graph** using an uploaded file"
      ],
      "metadata": {
        "id": "1P-LDKW6YTpX"
      }
    },
    {
      "cell_type": "code",
      "source": [
        "import numpy as np\n",
        "import pandas as pd\n",
        "import matplotlib.pyplot as plt\n",
        "from scipy.stats import kstest, norm\n",
        "\n",
        "# Load the data from the CSV file\n",
        "data5_gaussian = pd.read_csv('/content/GeneratedGaussianBigSampleData.csv')\n",
        "df5 = data5_gaussian['Values']  # Extract the column containing the data\n",
        "\n",
        "# Perform Kolmogorov-Smirnov test for normality\n",
        "statistic, p_value = kstest(df5, 'norm')\n",
        "\n",
        "# 💊 The following codeline for Kolmogorov-Smirnov test for normality does not work... ⤵️\n",
        "#statistic, p_value = kstest(df5['Values'], 'norm', args=(df5['Values'].mean(), df5['Values'].std()))\n",
        "\n",
        "# Print the test statistic and p-value\n",
        "print(\"Kolmogorov-Smirnov Test Statistic:\", statistic)\n",
        "print(\"p-value:\", p_value)\n",
        "\n",
        "# Define the CTT (critical test threshold, aka., alpha)\n",
        "alpha = 0.05\n",
        "\n",
        "# Interpret the result\n",
        "if p_value > alpha:\n",
        "    print(\"Sample looks Gaussian (fail to reject H0)\")\n",
        "else:\n",
        "    print(\"Sample does not look Gaussian (reject H0)\")\n",
        "\n",
        "# Plot histogram of the data\n",
        "plt.figure(figsize=(10, 6))\n",
        "sns.histplot(df5, kde=True, color='yellow', stat='density')\n",
        "\n",
        "# Plot normal distribution curve\n",
        "mu, sigma = np.mean(df5), np.std(df5)\n",
        "x = np.linspace(mu - 3*sigma, mu + 3*sigma, 100)\n",
        "plt.plot(x, norm.pdf(x, mu, sigma), 'r-', label='Normal Distribution')\n",
        "\n",
        "plt.xlabel('Data')\n",
        "plt.ylabel('Density')\n",
        "plt.title('Histogram of Data with Normal Distribution')\n",
        "plt.legend()\n",
        "plt.show()"
      ],
      "metadata": {
        "colab": {
          "base_uri": "https://localhost:8080/",
          "height": 616
        },
        "id": "Z9qyDf725sgH",
        "outputId": "037b932f-5d6a-4da7-f7a6-8346f0a71b59"
      },
      "execution_count": null,
      "outputs": [
        {
          "output_type": "stream",
          "name": "stdout",
          "text": [
            "Kolmogorov-Smirnov Test Statistic: 0.362064517801998\n",
            "p-value: 2.9900178835171845e-12\n",
            "Sample does not look Gaussian (reject H0)\n"
          ]
        },
        {
          "output_type": "display_data",
          "data": {
            "text/plain": [
              "<Figure size 1000x600 with 1 Axes>"
            ],
            "image/png": "[encoded data removed]"
          },
          "metadata": {}
        }
      ]
    },
    {
      "cell_type": "markdown",
      "source": [
        "## 💿 💿 3️⃣-2️⃣ When you use your csv. file...\n",
        "    Be aware that the following script generates the same result for everyone running it!"
      ],
      "metadata": {
        "id": "Vi2ohS-YZTMm"
      }
    },
    {
      "cell_type": "markdown",
      "source": [
        "#📊 **Non-Gaussian Distribution Graph** using an uploaded file"
      ],
      "metadata": {
        "id": "1imQ_aEFY2Pe"
      }
    },
    {
      "cell_type": "code",
      "source": [
        "import numpy as np\n",
        "import pandas as pd\n",
        "from scipy.stats import shapiro\n",
        "\n",
        "import matplotlib.pyplot as plt\n",
        "from scipy.stats import kstest, norm, expon\n",
        "import seaborn as sns\n",
        "\n",
        "# Load the data from the CSV file\n",
        "data6_non_gaussian = pd.read_csv('/content/GeneratedNonGaussianBigSampleData.csv')\n",
        "df6 = data6_non_gaussian['Values']  # Extract the column containing the data\n",
        "\n",
        "# Convert the data to a pandas DataFrame\n",
        "df6 = pd.DataFrame(df6, columns=['Values'])\n",
        "\n",
        "# 💊 Perform Kolmogorov-Smirnov test for normality ⤵️\n",
        "statistic, p_value = kstest(df6['Values'], 'norm', args=(df6['Values'].mean(), df6['Values'].std()))\n",
        "\n",
        "# Print the test statistic and p-value\n",
        "print(\"Kolmogorov-Smirnov Test Statistic:\", statistic)\n",
        "print(\"p-value:\", p_value)\n",
        "\n",
        "# Define the CTT (critical test threshold, aka., alpha)\n",
        "alpha = 0.05\n",
        "\n",
        "# Interpret the result\n",
        "if p_value > alpha:\n",
        "    print(\"Sample looks Gaussian (fail to reject H0)\")\n",
        "else:\n",
        "    print(\"Sample does not look Gaussian (reject H0)\")\n",
        "\n",
        "# Display the full set of data points\n",
        "print(\"Full set of data points:\")\n",
        "print(df6)\n",
        "\n",
        "# Plot histogram of the data\n",
        "plt.figure(figsize=(10, 6))\n",
        "sns.histplot(df6, kde=True, color='skyblue', stat='density')\n",
        "\n",
        "# Plot exponential distribution curve (💊 Caution: Code lines for plotting Normal distribution curve is different!)\n",
        "scale = 1  # Exponential distribution scale parameter (mean) gives a standard exponential distribution with a mean of 1.\n",
        "# scale = 1 (Lambda = 1) is a common default because it simplifies the mathematics and is often used when the specific rate is not critical to the problem at hand.\n",
        "x = np.linspace(0, df6['Values'].max(), 100)\n",
        "plt.plot(x, expon.pdf(x, scale=scale), 'r-', label='Exponential Distribution')\n",
        "\n",
        "plt.xlabel('Data')\n",
        "plt.ylabel('Density')\n",
        "plt.title('Histogram of Data without Normal Distribution')\n",
        "plt.legend()\n",
        "plt.show()"
      ],
      "metadata": {
        "id": "0dnk1Z_lT2zZ",
        "outputId": "47613fab-901a-490e-cc68-b3261ec46db3",
        "colab": {
          "base_uri": "https://localhost:8080/",
          "height": 876
        }
      },
      "execution_count": null,
      "outputs": [
        {
          "output_type": "stream",
          "name": "stdout",
          "text": [
            "Kolmogorov-Smirnov Test Statistic: 0.15828709378215222\n",
            "p-value: 0.011783742262732044\n",
            "Sample does not look Gaussian (reject H0)\n",
            "Full set of data points:\n",
            "      Values\n",
            "0   0.804625\n",
            "1   0.768263\n",
            "2   2.290795\n",
            "3   2.430491\n",
            "4   0.229890\n",
            "..       ...\n",
            "95  2.597039\n",
            "96  1.047428\n",
            "97  0.635062\n",
            "98  2.010680\n",
            "99  0.745713\n",
            "\n",
            "[100 rows x 1 columns]\n"
          ]
        },
        {
          "output_type": "display_data",
          "data": {
            "text/plain": [
              "<Figure size 1000x600 with 1 Axes>"
            ],
            "image/png": "[encoded data removed]"
          },
          "metadata": {}
        }
      ]
    },
    {
      "cell_type": "markdown",
      "source": [
        "## ➡️ T-test (with either SW test or KS test, p>0.05)\n",
        "## ➡️➡️ Wilcoxon Rank Sum text (with either SW test or KS test, p<0.05)"
      ],
      "metadata": {
        "id": "P3pOREs73Bnf"
      }
    }
  ]
}