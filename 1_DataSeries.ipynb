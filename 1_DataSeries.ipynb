{
  "nbformat": 4,
  "nbformat_minor": 0,
  "metadata": {
    "colab": {
      "provenance": [],
      "include_colab_link": true
    },
    "kernelspec": {
      "name": "python3",
      "display_name": "Python 3"
    },
    "language_info": {
      "name": "python"
    }
  },
  "cells": [
    {
      "cell_type": "markdown",
      "metadata": {
        "id": "view-in-github",
        "colab_type": "text"
      },
      "source": [
        "<a href=\"https://colab.research.google.com/github/sakrl0413/Data_Analysis/blob/main/1_DataSeries.ipynb\" target=\"_parent\"><img src=\"https://colab.research.google.com/assets/colab-badge.svg\" alt=\"Open In Colab\"/></a>"
      ]
    },
    {
      "cell_type": "markdown",
      "source": [
        "👀 🐾 <font color = 'red'> **Index, Series, Element(원소)**\n",
        "\n",
        "|Index Name/label | i0 | i1 | i2 | i3 | ... | in |\n",
        "|:|-|-|-|-|-|-|\n",
        "|Index Value | V0 | V1 | V2 | V3 | ... | Vn |\n",
        "|Integer position|0|1|2|3|...|n|\n",
        "\n",
        "<font color = 'blue'>👀 🐾 Exercise**\n",
        "\n",
        "|Index Name/label | a | b | c | d | e | f |\n",
        "|:|-|-|-|-|-|-|\n",
        "|Index Value | 10 | 20 | 30 | 40 | 50 | 60 |\n",
        "|Integer position|0|1|2|3|4|5|\n",
        "\n",
        "Series['c'] ➡️  30\n",
        "\n",
        "Series[\"c\"] ➡️  30\n",
        "\n",
        "Series[2] ➡️  30\n",
        "\n",
        "Series[['d'],['e']] ➡️  40, 50\n",
        "\n",
        "Series[[3,4]] ➡️  40, 50\n",
        "* 여러개의 인덱스를 리스트 형태로 입력할 때에는 대괄호 ([]) 안에 넣기\n",
        "\n",
        "Series['d':'e'] ➡️  40, 50\n",
        "\n",
        "Series[3:5] ➡️  40, 50"
      ],
      "metadata": {
        "id": "HhxjKRzMymn3"
      }
    },
    {
      "cell_type": "code",
      "source": [
        "#@markdown <font color = 'red'> **🐹 Student Activity 1 [list data] ⤵️**\n",
        "\n",
        "import pandas as pd\n",
        "list_data = ['2025-01-01', 3.14, 'ABC', 100, True]\n",
        "sr = pd.Series(list_data)\n",
        "print(sr)"
      ],
      "metadata": {
        "colab": {
          "base_uri": "https://localhost:8080/"
        },
        "id": "KSy0Rz6byu99",
        "outputId": "18198181-5d48-4364-c9ff-4059141c3fbf"
      },
      "execution_count": 1,
      "outputs": [
        {
          "output_type": "stream",
          "name": "stdout",
          "text": [
            "0    2025-01-01\n",
            "1          3.14\n",
            "2           ABC\n",
            "3           100\n",
            "4          True\n",
            "dtype: object\n"
          ]
        }
      ]
    },
    {
      "cell_type": "code",
      "execution_count": 2,
      "metadata": {
        "colab": {
          "base_uri": "https://localhost:8080/"
        },
        "id": "KdX5zx0yv-eO",
        "outputId": "84376de4-83cd-4325-f4cb-03e010cc0ac9"
      },
      "outputs": [
        {
          "output_type": "stream",
          "name": "stdout",
          "text": [
            "Requirement already satisfied: pandas in /usr/local/lib/python3.10/dist-packages (1.5.3)\n",
            "Requirement already satisfied: python-dateutil>=2.8.1 in /usr/local/lib/python3.10/dist-packages (from pandas) (2.8.2)\n",
            "Requirement already satisfied: pytz>=2020.1 in /usr/local/lib/python3.10/dist-packages (from pandas) (2023.4)\n",
            "Requirement already satisfied: numpy>=1.21.0 in /usr/local/lib/python3.10/dist-packages (from pandas) (1.25.2)\n",
            "Requirement already satisfied: six>=1.5 in /usr/local/lib/python3.10/dist-packages (from python-dateutil>=2.8.1->pandas) (1.16.0)\n",
            "<class 'pandas.core.series.Series'>\n",
            "\n",
            "\n",
            "a    1\n",
            "b    2\n",
            "c    3\n",
            "dtype: int64\n"
          ]
        }
      ],
      "source": [
        "#@markdown <font color = 'red'> **🐹 Student Activity 2 {dictionary data} ⤵️**\n",
        "\n",
        "!pip install pandas\n",
        "import pandas as pd\n",
        "dict_data = {'a':1, 'b':2, 'c':3}\n",
        "\n",
        "sr = pd.Series(dict_data)\n",
        "\n",
        "print(type(sr)) #시리즈 클래스. 시리즈는 데이터가 순차적으로 나열된 1차원 배열\n",
        "print('\\n')\n",
        "print(sr) #dtype: int64 (정수형)"
      ]
    },
    {
      "cell_type": "markdown",
      "source": [
        "👀 🐾 **list data or tuple data with [Index values separated by a comma]**\n",
        "\n",
        "* pandas.Series() with two arguments separated by a comma\n",
        "  * argument1 -> variable name\n",
        "  * argument 2 -> index name"
      ],
      "metadata": {
        "id": "7ancN9rwxZgh"
      }
    },
    {
      "cell_type": "code",
      "source": [
        "#@markdown <font color = 'red'> **🐹 Student Activity 3 (tuple data) ⤵️**\n",
        "import pandas as pd\n",
        "tuple_data = ('Emma', '2000.12.25', 'Female', True)\n",
        "sr = pd.Series(tuple_data, index=['Name', 'DOB', 'Gender', 'Student'])\n",
        "print(sr)\n",
        "\n",
        "print(sr[0])\n",
        "print(sr['Name'])"
      ],
      "metadata": {
        "colab": {
          "base_uri": "https://localhost:8080/"
        },
        "id": "lLLBsDAo2ka7",
        "outputId": "c8848963-9891-4470-eb11-0bcb796b4269"
      },
      "execution_count": 3,
      "outputs": [
        {
          "output_type": "stream",
          "name": "stdout",
          "text": [
            "Name             Emma\n",
            "DOB        2000.12.25\n",
            "Gender         Female\n",
            "Student          True\n",
            "dtype: object\n",
            "Emma\n",
            "Emma\n"
          ]
        }
      ]
    },
    {
      "cell_type": "code",
      "source": [
        "import pandas as pd\n",
        "tuple_data = ('Emma', '2000.12.25', 'Female', True)\n",
        "sr = pd.Series(tuple_data, index=['Name', 'DOB', 'Gender', 'Student'])\n",
        "print(sr[1,2])"
      ],
      "metadata": {
        "id": "GwXpuHh5_t6J"
      },
      "execution_count": null,
      "outputs": []
    },
    {
      "cell_type": "markdown",
      "source": [
        "👀 🐾 **Print part of list data**\n",
        "* print([]) 대괄호 사용\n",
        "* use additional [ ] for an embedded list"
      ],
      "metadata": {
        "id": "VPENJrgJyeE5"
      }
    },
    {
      "cell_type": "code",
      "source": [
        "#@markdown <font color = 'red'> **🐹 Student Activity 4 ⤵️**\n",
        "\n",
        "#@markdown <font color = 'red'> **Print part of [list data]**\n",
        "\n",
        "import pandas as pd\n",
        "tuple_data = ('Emma', '2000.12.25', 'Female', True)\n",
        "\n",
        " #정수형 위치 인덱스 대신 인덱스 이름을 따로 지정\n",
        "sr = pd.Series(tuple_data, index=['Name', 'DOB', 'Gender', 'Student'])\n",
        "\n",
        "print(sr[[1,2]])\n",
        "print('\\n')\n",
        "print(sr[['DOB','Gender']])"
      ],
      "metadata": {
        "colab": {
          "base_uri": "https://localhost:8080/"
        },
        "id": "_s-Hbotn6Fhr",
        "outputId": "8cdfce6b-9b57-4946-8fe9-ce6c101cf83e"
      },
      "execution_count": null,
      "outputs": [
        {
          "output_type": "stream",
          "name": "stdout",
          "text": [
            "DOB       2000.12.25\n",
            "Gender        Female\n",
            "dtype: object\n",
            "\n",
            "\n",
            "DOB       2000.12.25\n",
            "Gender        Female\n",
            "dtype: object\n"
          ]
        }
      ]
    }
  ]
}